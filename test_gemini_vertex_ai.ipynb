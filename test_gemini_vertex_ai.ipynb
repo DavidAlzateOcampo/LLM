{
 "cells": [
  {
   "cell_type": "markdown",
   "metadata": {},
   "source": [
    "### Install the libraries below to be able to connect to your account\n",
    "``` console\n",
    "pip install --upgrade google-cloud-aiplatform\n",
    "```\n",
    "### Run this command to connect to your google cloud account\n",
    "``` conosole\n",
    "gcloud auth application-default login\n",
    "```"
   ]
  },
  {
   "cell_type": "code",
   "execution_count": 3,
   "metadata": {},
   "outputs": [],
   "source": [
    "from dotenv import load_dotenv\n",
    "import os\n",
    "import vertexai\n",
    "from vertexai.generative_models import GenerativeModel, SafetySetting\n",
    "\n",
    "class testGeminiVertexAI():\n",
    "    def __init__(self) -> None:\n",
    "        self.configure_variables()\n",
    "        self.project = os.getenv('PROJECT')\n",
    "        self.location = os.getenv('LOCATION') \n",
    "        self.textsi_1 = \"\"\"You are an expert SAP Consultant with special expertise in logistics modules, with deep technical knowledge in modules such as the Logistic Inbound, Logistic outbound and also the interfaces that affect the Finance modules. Thus, you have deep knowledge of the tables affected in every process and also the transactions used to create different orders as well as the transactions to configure the behavior as per company.\"\"\"\n",
    "\n",
    "        self.generation_config = {\n",
    "            \"max_output_tokens\": 8192,\n",
    "            \"temperature\": 0.2,\n",
    "            \"top_p\": 0.95,\n",
    "        }\n",
    "\n",
    "        self.safety_settings = [\n",
    "            SafetySetting(\n",
    "                category=SafetySetting.HarmCategory.HARM_CATEGORY_HATE_SPEECH,\n",
    "                threshold=SafetySetting.HarmBlockThreshold.BLOCK_MEDIUM_AND_ABOVE\n",
    "            ),\n",
    "            SafetySetting(\n",
    "                category=SafetySetting.HarmCategory.HARM_CATEGORY_DANGEROUS_CONTENT,\n",
    "                threshold=SafetySetting.HarmBlockThreshold.BLOCK_MEDIUM_AND_ABOVE\n",
    "            ),\n",
    "            SafetySetting(\n",
    "                category=SafetySetting.HarmCategory.HARM_CATEGORY_SEXUALLY_EXPLICIT,\n",
    "                threshold=SafetySetting.HarmBlockThreshold.BLOCK_MEDIUM_AND_ABOVE\n",
    "            ),\n",
    "            SafetySetting(\n",
    "                category=SafetySetting.HarmCategory.HARM_CATEGORY_HARASSMENT,\n",
    "                threshold=SafetySetting.HarmBlockThreshold.BLOCK_MEDIUM_AND_ABOVE\n",
    "            ),\n",
    "        ]\n",
    "    \n",
    "    def configure_variables(self):\n",
    "        load_dotenv()\n",
    "\n",
    "    def multiturn_generate_content(self):    \n",
    "        vertexai.init(project=self.project, location=self.location)\n",
    "        model = GenerativeModel(\n",
    "            \"gemini-1.0-pro\",\n",
    "            system_instruction=[self.textsi_1]\n",
    "        )\n",
    "        chat = model.start_chat()\n",
    "        return chat.send_message(\n",
    "            [\"\"\"If I need to create a new warehouse for a new offices which kind of configuration should I follow ?\"\"\"],\n",
    "            generation_config=self.generation_config,\n",
    "            safety_settings=self.safety_settings\n",
    "        )"
   ]
  },
  {
   "cell_type": "code",
   "execution_count": 4,
   "metadata": {},
   "outputs": [],
   "source": [
    "vertexai_obj = testGeminiVertexAI()\n",
    "response = vertexai_obj.multiturn_generate_content()\n",
    "text_md = response.candidates[0].content.parts[0].text"
   ]
  },
  {
   "cell_type": "code",
   "execution_count": 5,
   "metadata": {},
   "outputs": [
    {
     "data": {
      "text/markdown": [
       "## Configuring a New Warehouse in SAP\n",
       "\n",
       "Setting up a new warehouse in SAP involves several configuration steps across various modules. Here's a breakdown of the key areas to consider:\n",
       "\n",
       "**1. Define the Warehouse in the System:**\n",
       "\n",
       "* **IMG Activity:** Define Warehouses (IMG Path: Logistics Execution > Warehouse Management > Master Data > Warehouses > Define Warehouses)\n",
       "* **Transaction Code:** OX09\n",
       "* **Key Steps:**\n",
       "    * Assign a unique warehouse number and name.\n",
       "    * Specify the warehouse type (e.g., high-bay warehouse, distribution center).\n",
       "    * Define the address and contact information.\n",
       "    * Set the default storage type and picking area.\n",
       "    * Configure putaway strategies and stock removal strategies.\n",
       "\n",
       "**2. Storage Bin Management:**\n",
       "\n",
       "* **IMG Activity:** Define Storage Types (IMG Path: Logistics Execution > Warehouse Management > Master Data > Storage Bins > Define Storage Types)\n",
       "* **Transaction Code:** LS02\n",
       "* **Key Steps:**\n",
       "    * Create storage types for different types of goods (e.g., finished goods, raw materials).\n",
       "    * Define storage bin characteristics (e.g., capacity, weight limit).\n",
       "    * Assign storage types to the warehouse.\n",
       "\n",
       "**3. Warehouse Processes:**\n",
       "\n",
       "* **IMG Activity:** Define Warehouse Processes (IMG Path: Logistics Execution > Warehouse Management > Master Data > Warehouse Processes > Define Warehouse Processes)\n",
       "* **Transaction Code:** /SCWM/WPROCESS\n",
       "* **Key Steps:**\n",
       "    * Configure inbound and outbound processes (e.g., goods receipt, putaway, picking, packing, shipping).\n",
       "    * Define the sequence of activities for each process.\n",
       "    * Assign warehouse tasks to users or roles.\n",
       "\n",
       "**4. Interfaces with Other Modules:**\n",
       "\n",
       "* **Financial Accounting:** Configure automatic goods movement postings and inventory valuation.\n",
       "* **Controlling:** Set up cost centers and activity types for warehouse operations.\n",
       "* **Sales and Distribution:** Integrate warehouse processes with sales orders and deliveries.\n",
       "* **Materials Management:** Ensure seamless integration with procurement and inventory management.\n",
       "\n",
       "**5. User Authorizations:**\n",
       "\n",
       "* **Transaction Code:** SU01\n",
       "* **Key Steps:**\n",
       "    * Create user profiles with appropriate authorizations for warehouse activities.\n",
       "    * Assign users to specific warehouse tasks and processes.\n",
       "\n",
       "**Additional Considerations:**\n",
       "\n",
       "* **Interfaces:** If your warehouse uses automated storage and retrieval systems (ASRS) or other external equipment, configure the necessary interfaces with SAP.\n",
       "* **Reporting:** Set up reports to track warehouse performance and key metrics.\n",
       "* **Testing:** Thoroughly test all configurations before going live with the new warehouse.\n",
       "\n",
       "**Resources:**\n",
       "\n",
       "* SAP Help Portal: https://help.sap.com/erp\n",
       "* SAP Community: https://answers.sap.com/tags/01100031590000000102/warehouse-management\n",
       "* SAP Learning Hub: https://learninghub.sap.com/content/learningplan/844644\n",
       "\n",
       "Remember, this is a general overview. The specific configuration steps may vary depending on your company's requirements and the SAP modules you are using. It's always recommended to consult the official SAP documentation and seek assistance from experienced SAP consultants for a successful implementation."
      ],
      "text/plain": [
       "<IPython.core.display.Markdown object>"
      ]
     },
     "execution_count": 5,
     "metadata": {},
     "output_type": "execute_result"
    }
   ],
   "source": [
    "from IPython.display import Markdown as md\n",
    "md(text_md)"
   ]
  }
 ],
 "metadata": {
  "kernelspec": {
   "display_name": "myvenv_llm",
   "language": "python",
   "name": "python3"
  },
  "language_info": {
   "codemirror_mode": {
    "name": "ipython",
    "version": 3
   },
   "file_extension": ".py",
   "mimetype": "text/x-python",
   "name": "python",
   "nbconvert_exporter": "python",
   "pygments_lexer": "ipython3",
   "version": "3.10.10"
  }
 },
 "nbformat": 4,
 "nbformat_minor": 2
}
