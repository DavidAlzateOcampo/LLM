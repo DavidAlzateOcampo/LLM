{
 "cells": [
  {
   "cell_type": "markdown",
   "metadata": {},
   "source": [
    "### Install the libraries below to be able to connect to your account\n",
    "``` console\n",
    "pip install --upgrade google-cloud-aiplatform\n",
    "```\n",
    "### Run this command to connect to your google cloud account\n",
    "``` conosole\n",
    "gcloud auth application-default login\n",
    "```"
   ]
  },
  {
   "cell_type": "code",
   "execution_count": 1,
   "metadata": {},
   "outputs": [],
   "source": [
    "from dotenv import load_dotenv\n",
    "import os\n",
    "import vertexai\n",
    "from vertexai.generative_models import GenerativeModel, SafetySetting\n",
    "\n",
    "class testGeminiVertexAI():\n",
    "    def __init__(self) -> None:\n",
    "        self.configure_variables()\n",
    "        self.project = os.getenv('PROJECT')\n",
    "        self.location = os.getenv('LOCATION') \n",
    "        self.textsi_1 = \"\"\"You are an expert SAP Consultant with special expertise in logistics modules, with deep technical knowledge in modules such as the Logistic Inbound, Logistic outbound and also the interfaces that affect the Finance modules. Thus, you have deep knowledge of the tables affected in every process and also the transactions used to create different orders as well as the transactions to configure the behavior as per company.\"\"\"\n",
    "\n",
    "        self.generation_config = {\n",
    "            \"max_output_tokens\": 8192,\n",
    "            \"temperature\": 0.2,\n",
    "            \"top_p\": 0.95,\n",
    "        }\n",
    "\n",
    "        self.safety_settings = [\n",
    "            SafetySetting(\n",
    "                category=SafetySetting.HarmCategory.HARM_CATEGORY_HATE_SPEECH,\n",
    "                threshold=SafetySetting.HarmBlockThreshold.BLOCK_MEDIUM_AND_ABOVE\n",
    "            ),\n",
    "            SafetySetting(\n",
    "                category=SafetySetting.HarmCategory.HARM_CATEGORY_DANGEROUS_CONTENT,\n",
    "                threshold=SafetySetting.HarmBlockThreshold.BLOCK_MEDIUM_AND_ABOVE\n",
    "            ),\n",
    "            SafetySetting(\n",
    "                category=SafetySetting.HarmCategory.HARM_CATEGORY_SEXUALLY_EXPLICIT,\n",
    "                threshold=SafetySetting.HarmBlockThreshold.BLOCK_MEDIUM_AND_ABOVE\n",
    "            ),\n",
    "            SafetySetting(\n",
    "                category=SafetySetting.HarmCategory.HARM_CATEGORY_HARASSMENT,\n",
    "                threshold=SafetySetting.HarmBlockThreshold.BLOCK_MEDIUM_AND_ABOVE\n",
    "            ),\n",
    "        ]\n",
    "    \n",
    "    def configure_variables(self):\n",
    "        load_dotenv()\n",
    "\n",
    "    def multiturn_generate_content(self):    \n",
    "        vertexai.init(project=self.project, location=self.location)\n",
    "        model = GenerativeModel(\n",
    "            \"gemini-1.5-flash-001\",\n",
    "            system_instruction=[self.textsi_1]\n",
    "        )\n",
    "        chat = model.start_chat()\n",
    "        return chat.send_message(\n",
    "            [\"\"\"If I need to create a new warehouse for a new offices which kind of configuration should I follow ?\"\"\"],\n",
    "            generation_config=self.generation_config,\n",
    "            safety_settings=self.safety_settings\n",
    "        )"
   ]
  },
  {
   "cell_type": "code",
   "execution_count": 2,
   "metadata": {},
   "outputs": [],
   "source": [
    "vertexai_obj = testGeminiVertexAI()\n",
    "response = vertexai_obj.multiturn_generate_content()\n",
    "text_md = response.candidates[0].content.parts[0].text"
   ]
  },
  {
   "cell_type": "code",
   "execution_count": 3,
   "metadata": {},
   "outputs": [
    {
     "data": {
      "text/markdown": [
       "Creating a new warehouse in SAP is a multi-step process that involves configuring various settings and master data. Here's a breakdown of the key steps and considerations:\n",
       "\n",
       "**1. Define the Warehouse Structure:**\n",
       "\n",
       "* **Warehouse Number:** Assign a unique warehouse number to the new warehouse. This number will be used for all subsequent transactions related to the warehouse.\n",
       "* **Warehouse Type:** Determine the type of warehouse (e.g., distribution center, manufacturing plant, cross-docking facility). This will influence the configuration of storage bins, picking strategies, and other warehouse-specific settings.\n",
       "* **Storage Locations:** Define the physical layout of the warehouse, including storage areas, picking areas, shipping areas, and any other relevant zones.\n",
       "* **Storage Bins:** Create storage bins within each storage location to represent specific storage spaces for materials.\n",
       "\n",
       "**2. Configure Master Data:**\n",
       "\n",
       "* **Material Master:** Ensure that all materials that will be stored in the new warehouse are assigned to the correct storage location and storage bin.\n",
       "* **Plant Master:** Create a new plant record for the new office location. This plant will be associated with the new warehouse.\n",
       "* **Vendor Master:** If the new warehouse will receive materials from external vendors, ensure that the vendor master data is updated with the new warehouse information.\n",
       "* **Customer Master:** If the new warehouse will ship materials to customers, ensure that the customer master data is updated with the new warehouse information.\n",
       "\n",
       "**3. Configure Warehouse Management Settings:**\n",
       "\n",
       "* **Storage Control:** Define the storage control strategy for the warehouse, including the rules for assigning materials to storage bins, the use of storage types, and the handling of stock movements.\n",
       "* **Picking Strategies:** Configure the picking strategies for the warehouse, including the order of picking, the use of picking lists, and the handling of picking exceptions.\n",
       "* **Shipping Strategies:** Define the shipping strategies for the warehouse, including the order of shipping, the use of shipping documents, and the handling of shipping exceptions.\n",
       "* **Inventory Management:** Configure the inventory management settings for the warehouse, including the use of stock levels, the handling of stock adjustments, and the use of cycle counting.\n",
       "\n",
       "**4. Configure Interfaces:**\n",
       "\n",
       "* **Finance Integration:** Ensure that the new warehouse is integrated with the financial modules, including the creation of material documents, the posting of goods receipts and goods issues, and the generation of invoices.\n",
       "* **Production Planning:** If the new warehouse is associated with a manufacturing plant, ensure that it is integrated with the production planning modules, including the creation of production orders, the scheduling of production activities, and the tracking of production progress.\n",
       "\n",
       "**5. Test and Go Live:**\n",
       "\n",
       "* **Testing:** Conduct thorough testing of the new warehouse configuration to ensure that all processes are working as expected.\n",
       "* **Go Live:** Once the testing is complete, the new warehouse can be activated and put into production.\n",
       "\n",
       "**Key Transactions:**\n",
       "\n",
       "* **Warehouse Management (WM):**\n",
       "    * **Transaction Code:**  `LM01` (Create Warehouse)\n",
       "    * **Transaction Code:** `LM07` (Create Storage Location)\n",
       "    * **Transaction Code:** `LM11` (Create Storage Bin)\n",
       "    * **Transaction Code:** `LT01` (Goods Receipt)\n",
       "    * **Transaction Code:** `LT03` (Goods Issue)\n",
       "    * **Transaction Code:** `LT12` (Transfer Posting)\n",
       "    * **Transaction Code:** `LT20` (Picking)\n",
       "    * **Transaction Code:** `LT24` (Packing)\n",
       "    * **Transaction Code:** `LT25` (Shipping)\n",
       "* **Material Management (MM):**\n",
       "    * **Transaction Code:** `MM01` (Create Material Master)\n",
       "    * **Transaction Code:** `ME21N` (Create Purchase Order)\n",
       "    * **Transaction Code:** `MIGO` (Goods Receipt/Issue)\n",
       "* **Plant Maintenance (PM):**\n",
       "    * **Transaction Code:** `IP01` (Create Plant)\n",
       "* **Finance (FI):**\n",
       "    * **Transaction Code:** `FB01` (Create Invoice)\n",
       "\n",
       "**Important Considerations:**\n",
       "\n",
       "* **Business Requirements:** Clearly define the business requirements for the new warehouse, including the types of materials to be stored, the expected volume of transactions, and the desired level of automation.\n",
       "* **Existing Infrastructure:** Consider the existing infrastructure at the new office location, including the availability of space, power, and network connectivity.\n",
       "* **Security:** Implement appropriate security measures to protect the warehouse and its contents.\n",
       "* **Training:** Provide adequate training to warehouse personnel on the new configuration and processes.\n",
       "\n",
       "Remember, this is a general guide. The specific configuration steps and transactions may vary depending on your specific business requirements and the version of SAP you are using. It's always recommended to consult with an experienced SAP consultant to ensure that the configuration is tailored to your needs. \n"
      ],
      "text/plain": [
       "<IPython.core.display.Markdown object>"
      ]
     },
     "execution_count": 3,
     "metadata": {},
     "output_type": "execute_result"
    }
   ],
   "source": [
    "from IPython.display import Markdown as md\n",
    "md(text_md)"
   ]
  }
 ],
 "metadata": {
  "kernelspec": {
   "display_name": "myvenv_llm",
   "language": "python",
   "name": "python3"
  },
  "language_info": {
   "codemirror_mode": {
    "name": "ipython",
    "version": 3
   },
   "file_extension": ".py",
   "mimetype": "text/x-python",
   "name": "python",
   "nbconvert_exporter": "python",
   "pygments_lexer": "ipython3",
   "version": "3.10.10"
  }
 },
 "nbformat": 4,
 "nbformat_minor": 2
}
