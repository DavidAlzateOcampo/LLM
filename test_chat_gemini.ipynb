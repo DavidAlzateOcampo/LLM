{
 "cells": [
  {
   "cell_type": "markdown",
   "metadata": {
    "vscode": {
     "languageId": "plaintext"
    }
   },
   "source": [
    "### Loading the chat"
   ]
  },
  {
   "cell_type": "code",
   "execution_count": 1,
   "metadata": {},
   "outputs": [
    {
     "name": "stderr",
     "output_type": "stream",
     "text": [
      "d:\\AI\\python_courses\\github_dalzate\\LLM\\crewvertex\\vcrewai\\lib\\site-packages\\tqdm\\auto.py:21: TqdmWarning: IProgress not found. Please update jupyter and ipywidgets. See https://ipywidgets.readthedocs.io/en/stable/user_install.html\n",
      "  from .autonotebook import tqdm as notebook_tqdm\n"
     ]
    }
   ],
   "source": [
    "from dotenv import load_dotenv\n",
    "from langchain.prompts import ChatPromptTemplate\n",
    "from langchain_google_genai import ChatGoogleGenerativeAI\n",
    "import os\n",
    "import warnings\n",
    "warnings.filterwarnings('ignore') \n",
    "load_dotenv()\n",
    "## Call gemini model \n",
    "model=ChatGoogleGenerativeAI(model=\"gemini-1.0-pro\",\n",
    "                           verbose=True,\n",
    "                           temperature=0.2,\n",
    "                           convert_system_message_to_human=True,\n",
    "                           google_api_key=os.getenv(\"GOOGLE_AI_STUDIO_API_KEY\"))"
   ]
  },
  {
   "cell_type": "markdown",
   "metadata": {},
   "source": [
    "## Making use of a simple prompt"
   ]
  },
  {
   "cell_type": "code",
   "execution_count": 2,
   "metadata": {},
   "outputs": [
    {
     "name": "stdout",
     "output_type": "stream",
     "text": [
      "Prompt from template\n"
     ]
    }
   ],
   "source": [
    "print(\"Prompt from template\")\n",
    "template = \"Share with us {number} anecdotes  about {topic}.\"\n",
    "prompt_template = ChatPromptTemplate.from_template(template)\n",
    "prompt = prompt_template.invoke({\"topic\":\"Tapir\",\"number\":\"10\"})\n",
    "result = model.invoke(prompt)"
   ]
  },
  {
   "cell_type": "code",
   "execution_count": 3,
   "metadata": {},
   "outputs": [
    {
     "data": {
      "text/markdown": [
       "1. **Tapirs are the largest land mammals in South America.** The largest species, the Brazilian tapir, can weigh up to 800 pounds and stand 4 feet tall at the shoulder.\n",
       "2. **Tapirs have prehensile noses.** They use their long, flexible noses to grab leaves, fruits, and other vegetation.\n",
       "3. **Tapirs are excellent swimmers.** They often take to the water to cool off or to escape predators.\n",
       "4. **Tapirs are solitary animals.** They only come together to mate.\n",
       "5. **Tapirs are pregnant for about 13 months.** They give birth to a single calf, which weighs about 25 pounds.\n",
       "6. **Tapir calves are born with a distinctive pattern of stripes and spots.** This pattern helps them to camouflage themselves in the forest.\n",
       "7. **Tapirs are herbivores.** They eat a variety of plants, including leaves, fruits, and grasses.\n",
       "8. **Tapirs are important seed dispersers.** They help to spread the seeds of many different plant species.\n",
       "9. **Tapirs are threatened by habitat loss and hunting.** They are listed as vulnerable by the International Union for Conservation of Nature (IUCN).\n",
       "10. **Tapirs are fascinating creatures.** They are a unique and important part of the South American ecosystem."
      ],
      "text/plain": [
       "<IPython.core.display.Markdown object>"
      ]
     },
     "execution_count": 3,
     "metadata": {},
     "output_type": "execute_result"
    }
   ],
   "source": [
    "from IPython.display import Markdown as md\n",
    "md(result.content)"
   ]
  },
  {
   "cell_type": "markdown",
   "metadata": {},
   "source": [
    "### Making use of the system and human messages"
   ]
  },
  {
   "cell_type": "code",
   "execution_count": 4,
   "metadata": {},
   "outputs": [
    {
     "name": "stdout",
     "output_type": "stream",
     "text": [
      "Prompt with system and Human Messages (Tuple)\n"
     ]
    }
   ],
   "source": [
    "print(\"Prompt with system and Human Messages (Tuple)\")\n",
    "# To use messages, the model must be created with \n",
    "# convert_system_message_to_human=True\n",
    "messages = [(\"system\",\"You are an specialist about {topic}\"),\n",
    "    (\"human\",\"Share with us {number} anecdotes  about {topic}.\"),\n",
    "]\n",
    "\n",
    "prompt_template = ChatPromptTemplate.from_messages(messages)\n",
    "prompt = prompt_template.invoke({\"topic\":\"Tapir\",\"number\":\"10\"})\n",
    "result = model.invoke(prompt)"
   ]
  },
  {
   "cell_type": "code",
   "execution_count": 5,
   "metadata": {},
   "outputs": [
    {
     "data": {
      "text/markdown": [
       "**10 Anecdotes About Tapirs**\n",
       "\n",
       "1. **Tapirs are the largest land mammals in South America.** The largest species, the Brazilian tapir, can weigh up to 800 pounds and stand 4 feet tall at the shoulder.\n",
       "2. **Tapirs have prehensile noses.** They use their long, flexible noses to grab leaves, fruit, and other food.\n",
       "3. **Tapirs are excellent swimmers.** They often take to the water to cool off or escape predators.\n",
       "4. **Tapirs are solitary animals.** They only come together to mate or raise their young.\n",
       "5. **Tapirs are herbivores.** They eat a variety of plants, including leaves, fruit, and aquatic vegetation.\n",
       "6. **Tapirs have a thick hide.** This helps to protect them from predators and the elements.\n",
       "7. **Tapirs are pregnant for about 13 months.** They give birth to a single calf, which they nurse for up to a year.\n",
       "8. **Tapirs are considered to be keystone species.** This means that they play an important role in their ecosystem by helping to disperse seeds and create clearings in the forest.\n",
       "9. **Tapirs are threatened by habitat loss and hunting.** They are listed as vulnerable by the International Union for Conservation of Nature (IUCN).\n",
       "10. **Tapirs are fascinating creatures.** They are a unique and important part of the South American ecosystem."
      ],
      "text/plain": [
       "<IPython.core.display.Markdown object>"
      ]
     },
     "execution_count": 5,
     "metadata": {},
     "output_type": "execute_result"
    }
   ],
   "source": [
    "from IPython.display import Markdown as md\n",
    "md(result.content)"
   ]
  },
  {
   "cell_type": "code",
   "execution_count": 6,
   "metadata": {},
   "outputs": [
    {
     "name": "stdout",
     "output_type": "stream",
     "text": [
      "The number of input tokens : 20\n",
      "The number of output tokens : 297\n",
      "The number of total tokens : 317\n"
     ]
    }
   ],
   "source": [
    "print(f\"The number of input tokens : {result.usage_metadata.get('input_tokens')}\")\n",
    "print(f\"The number of output tokens : {result.usage_metadata.get('output_tokens')}\")\n",
    "print(f\"The number of total tokens : {result.usage_metadata.get('total_tokens')}\")"
   ]
  }
 ],
 "metadata": {
  "kernelspec": {
   "display_name": "vcrewai",
   "language": "python",
   "name": "python3"
  },
  "language_info": {
   "codemirror_mode": {
    "name": "ipython",
    "version": 3
   },
   "file_extension": ".py",
   "mimetype": "text/x-python",
   "name": "python",
   "nbconvert_exporter": "python",
   "pygments_lexer": "ipython3",
   "version": "3.10.10"
  }
 },
 "nbformat": 4,
 "nbformat_minor": 2
}
